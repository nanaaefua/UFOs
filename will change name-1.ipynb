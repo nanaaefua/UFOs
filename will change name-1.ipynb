{
 "cells": [
  {
   "cell_type": "code",
   "execution_count": 4,
   "metadata": {},
   "outputs": [
    {
     "ename": "SyntaxError",
     "evalue": "invalid syntax (30938747.py, line 1)",
     "output_type": "error",
     "traceback": [
      "\u001b[1;36m  File \u001b[1;32m\"C:\\Users\\equan\\AppData\\Local\\Temp\\ipykernel_24284\\30938747.py\"\u001b[1;36m, line \u001b[1;32m1\u001b[0m\n\u001b[1;33m    var data = [\u001b[0m\n\u001b[1;37m           ^\u001b[0m\n\u001b[1;31mSyntaxError\u001b[0m\u001b[1;31m:\u001b[0m invalid syntax\n"
     ]
    }
   ],
   "source": [
    "    var data = [\n",
    "  {\n",
    "            datetime: \"1/1/2010\",\n",
    "            city: \"benton\",\n",
    "            state: \"ar\",\n",
    "            country: \"us\",\n",
    "            shape: \"circle\",\n",
    "            durationMinutes: \"5 mins.\",\n",
    "            comments: \"4 bright green circles high in the sky going in circles then one bright green light at my front door.\"\n",
    "        },\n",
    "        {\n",
    "            datetime: \"1/1/2010\",\n",
    "            city: \"bonita\",\n",
    "            state: \"ca\",\n",
    "            country: \"us\",\n",
    "            shape: \"light\",\n",
    "            durationMinutes: \"13 minutes\",\n",
    "            comments: \"Three bright red lights witnessed floating stationary over San Diego New Years Day 2010\"\n",
    "        },\n",
    "    "
   ]
  }
 ],
 "metadata": {
  "interpreter": {
   "hash": "fcbd1d899e2589b09a17554031c32842e524957600f5946fe1e3ecf77021f783"
  },
  "kernelspec": {
   "display_name": "Python 3.7.6 ('PythonData')",
   "language": "python",
   "name": "python3"
  },
  "language_info": {
   "codemirror_mode": {
    "name": "ipython",
    "version": 3
   },
   "file_extension": ".py",
   "mimetype": "text/x-python",
   "name": "python",
   "nbconvert_exporter": "python",
   "pygments_lexer": "ipython3",
   "version": "3.7.6"
  },
  "orig_nbformat": 4
 },
 "nbformat": 4,
 "nbformat_minor": 2
}
